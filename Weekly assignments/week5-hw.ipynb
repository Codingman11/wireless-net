{
  "cells": [
    {
      "metadata": {
        "collapsed": true
      },
      "cell_type": "markdown",
      "source": "# BL40A2030 Wireless Communication Networks\n\n## Week 5 - Assignment\n\n### Author: [Write your name]"
    },
    {
      "metadata": {},
      "cell_type": "markdown",
      "source": "**1. (Scaling laws) Plot the throughput capacity for random networks with immobile nodes considering both the protocol and the physical model. Eq.(22) and (23) from [5].**\n\n(a) What does this result mean in terms of how much bits per second can flow in the network when the number of nodes increases?\n\n(b) Cite two ways to improve the throughput capacity of wireless networks that is given in [5]. Make a brief comment with your own words about these two solutions (pro and con). \n\n*Hint: The \"big O\" [notation](https://en.wikipedia.org/wiki/Big_O_notation) provides asymptotic boundaries of functions. In other words, what happens with the function when $n$ grows large (to infinity). It is not the function but lower and/or upper bounds. For example, the plot I wish tells that the throughput asymptotically behaves with the number of nodes in the network. In this case, the throughput capacity scales down with this number following the equations. In this sense, $W$ is a constant so one can set $W=1$ (bits/s). Note that the equations are the same, telling that they have indeed the same scaling in throughput capacity. In other words, both models have the same fundamental limit for random networks (what is not the case for arbitrary -- i.e. I decide where to put the nodes -- networks).*\n\n**2. (Interference empirical distribution) Let us analyze the effect of the newtork size in the interference distribution for the same network density (expected number of interferers per unit of area). Follow the implementation of the \"path-loss model 2\" given in the tutorial. Consider the pathloss exponent $\\alpha=3$, the density of $0.1$ node$/m^2$ and a square network of $L \\times L$. Plot the empirical distribution for:** \n\n(a) $L = 5$ \n\n(b) $L = 10$\n\n(c) $L = 20$\n\n(d) $L = 100$\n\n(e) Do you see any difference? Why?\n\n*Hint: To keep the same density: mean_poisson = density $\\times L^2$*\n\n\n\n**3. (Outage probability) Follow the tutorial to investigate the effect of the SIR threshold $\\beta$ in the outage probability, defined as (1 - success probability).**\n\n(a) Plot the outage probability as a function of $\\beta>1$ for: d=1, alpha=4, L=10, mean_poisson= 10, trials=10000. Plot $\\beta$ from 1 to 15.\n\n(b) Consider that the threshold $\\beta$ is related to the channel capacity $\\log_2(1+\\beta)$ by treating the \"interference as noise\". This value indicates the maximum achieved spectral efficiency by the link in bits/s/Hz. Plot $\\log_2(1+\\beta)$ as a function of $\\beta$, also from 1 to 15.\n\n(c) Discuss the trade-off involved in the outage probability and the spectral efficiency that is controlled by the threshold $\\beta$."
    },
    {
      "metadata": {
        "trusted": true
      },
      "cell_type": "code",
      "source": "",
      "execution_count": null,
      "outputs": []
    }
  ],
  "metadata": {
    "kernelspec": {
      "name": "python36",
      "display_name": "Python 3.6",
      "language": "python"
    },
    "language_info": {
      "mimetype": "text/x-python",
      "nbconvert_exporter": "python",
      "name": "python",
      "pygments_lexer": "ipython3",
      "version": "3.6.6",
      "file_extension": ".py",
      "codemirror_mode": {
        "version": 3,
        "name": "ipython"
      }
    }
  },
  "nbformat": 4,
  "nbformat_minor": 2
}