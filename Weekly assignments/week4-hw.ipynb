{
  "cells": [
    {
      "metadata": {
        "collapsed": true
      },
      "cell_type": "markdown",
      "source": "# BL40A2030 Wireless Communication Networks\n\n## Week 4 - Assignment\n\n### Author: [Write your name]"
    },
    {
      "metadata": {},
      "cell_type": "markdown",
      "source": "**1. (Propagation effects in wireless transmission) When modeling wireless links, we can cite three main effects: distance-dependent path-loss, slow fading and fast fading.**\n\n(a) Explain with your own words these three effects.\n\n(b) A distance dependent path-loss states a relation between the power of the signal as a function of the distance that the signal have travelled. Plot $P = d^{-\\alpha}$ where $\\alpha$ is the path-loss exponent. Consider: $1\\leq d \\leq 5$ for four values of path loss exponends: $\\alpha=2, 3, 4, 5$.\n\n(c) What is the impact of $\\alpha$ in relation to the interference level experienced by a given receiver at a given distance $d$ from the interferer transmitter?\n\n*Note: In the text, the path-loss exponent is also denoted by $\\eta$. In this case, $\\alpha$ and $\\eta$ refer to the same thing (other authors use even other notations). I prefer to use $\\alpha$.*\n\n**2. (Interference models) Explain with your own words the following models and their differences** \n\n- Collision channel model\n- Capture channel model\n- Vulnerability circle capture model\n- Power capture model\n\n\n**3. (Physical interference model) Explain with your own words equation (3) from [4]:**\n\n$$ \\dfrac{P_i |X_i - X_{R(i)}|^{-\\alpha}}{\\sigma^2 + \\sum_{k \\in \\mathcal{N}, k\\ \\neq i} P_k |X_k - X_{R(i)}|^{-\\alpha} } \\geq \\beta_p$$\n\n- Meaning of the variables there.\n- Identify the sources of uncertainty on these variables.\n- Rewrite here a simplified version of this equation when: Noise and fading are neglected, the transmit power from all transmitters are the same, and the receiver is located at the origin i.e. (0, 0). Which are the possible source of uncertainty in this case?\n\n\n**4. (Topologies) Draw in the same plot: (a) random network with 200 nodes in a square $10 \\times 10$ uniformly distributed in $x$ and $y$ and (b) square grid with $16$ elements. Do you think this is a good model for a [small-cell](https://en.wikipedia.org/wiki/Small_cell) in a cellular network?**\n"
    },
    {
      "metadata": {
        "trusted": true
      },
      "cell_type": "code",
      "source": "",
      "execution_count": null,
      "outputs": []
    }
  ],
  "metadata": {
    "kernelspec": {
      "name": "python36",
      "display_name": "Python 3.6",
      "language": "python"
    },
    "language_info": {
      "mimetype": "text/x-python",
      "nbconvert_exporter": "python",
      "name": "python",
      "pygments_lexer": "ipython3",
      "version": "3.6.6",
      "file_extension": ".py",
      "codemirror_mode": {
        "version": 3,
        "name": "ipython"
      }
    }
  },
  "nbformat": 4,
  "nbformat_minor": 2
}