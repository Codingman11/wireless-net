{
  "cells": [
    {
      "metadata": {
        "collapsed": true
      },
      "cell_type": "markdown",
      "source": "# BL40A2030 Wireless Communication Networks\n\n## Week 6 - Assignment\n\n### Author: [Write your name]"
    },
    {
      "metadata": {},
      "cell_type": "markdown",
      "source": "**1. (Poisson Point Process) Consider a given region with area $A = 100$ m^2.**\n\n(a) Simulate and plot the histogram of number of points in this area $A$ considering that the density of point is $\\lambda = 0.2$ points/m^2.\n\n(b) Compare the simulated histogram with the analytical Poisson distribution.\n\n(c) Present a snapshot of this Point process of this area considering that it is a square with side lenght $L=10$ m.\n\n*Hint: In (a) and (b) there is no need to simulate the position, only the number of points; use the following to define the correct number of bins in the histogram: n_bins = np.max(samples_mean)-np.min(samples_mean) [check tutorial from week 2]. In (c), one snapshot is enough.* \n\n\n**2. (Closest-neighbor bound) During this week, the closest neighbor lower-bound of the outage probability when was presented. ** \n\n(a) What is the outage event and what is the meaning of this outage probability? \n\n(b) Explain why the closest-neighbor is a lower bound of the outage probability?\n\n(c) Adapt the code provided in the tutorial to validate the bound as a function of $1< \\beta <6$ considering $\\lambda = 0.04$ (density of interferers in nodes per m^2), $d=1.5$, $\\alpha = 4$.\n\n*Hint: (a) Remember that the Spatial Point Process analysis characterizes events and their probabilities over different spatial realizations*\n\n\n**3. (Performance analysis) Aggregate Information Efficiency for the bipolar networks:  $\\lambda \\times d \\times (1-P_o) \\times \\log_2(1+\\beta)$ **\n\n(a) Plot the AIE as a function of $1 < \\beta <6$ with $d=1.5$, $\\alpha = 4$, and $\\lambda = 0.05$.\n\n(b) Plot the AIE as a function of $1 < d < 6$ with $\\beta= 3$, $\\alpha = 4$, and $\\lambda = 0.01$.\n\n(c) Plot the AIE as a function of $0.001 < \\lambda<0.1$ with $d=1.5$, $\\alpha = 4$, and $\\beta= 3$.\n\n(d) Comment the trade-offs captured by this metric based on the items (a)-(c).\n\n*Hint: No need to simulate, only plot the mathematical formulation.*"
    },
    {
      "metadata": {
        "trusted": true
      },
      "cell_type": "code",
      "source": "",
      "execution_count": null,
      "outputs": []
    }
  ],
  "metadata": {
    "kernelspec": {
      "name": "python36",
      "display_name": "Python 3.6",
      "language": "python"
    },
    "language_info": {
      "mimetype": "text/x-python",
      "nbconvert_exporter": "python",
      "name": "python",
      "pygments_lexer": "ipython3",
      "version": "3.6.6",
      "file_extension": ".py",
      "codemirror_mode": {
        "version": 3,
        "name": "ipython"
      }
    }
  },
  "nbformat": 4,
  "nbformat_minor": 2
}