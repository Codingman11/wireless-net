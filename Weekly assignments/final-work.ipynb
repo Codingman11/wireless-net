{
  "cells": [
    {
      "metadata": {
        "collapsed": true
      },
      "cell_type": "markdown",
      "source": "# BL40A2030 Wireless Communication Networks\n\n## Final work\n\n### Author: [Write your name]"
    },
    {
      "metadata": {},
      "cell_type": "markdown",
      "source": "**The goal of the final work is to compute the Transmission Capacity (i.e. the highest achievable Spatial Throughput considering a maximum acceptable outage probability constraint), also considering aspects related to queue stability. The final work will be step-by-step.**\n\nConsider a bipolar network similar to the one presented in weeks 6 and 7, but now considering a slotted-ALOHA-style of medium access. \n\n- Network density $\\lambda>0$\n- Path-loss exponent $\\alpha>2$\n- Rayleigh fading, leading to a constant $\\kappa$\n- SIR threshold $\\beta>0$\n- TX-RX distance $d\\geq1$\n- Slotted Aloha access probability (independent for individual TXs): $p$\n- Outage probability = 1 - success probability: $1 - e^{- \\kappa p \\lambda \\pi d^2 \\beta^{2/\\alpha}} = 1 - P_s$\n- Spatial throughput: $p \\times \\lambda \\times  P_s \\times \\log_2(1+\\beta)$\n- Maximum acceptable outage probability: $\\epsilon$\n\n*Note: When the slotted-ALOHA-style MAC is used, the original Poisson point process is thinned and the process of active transmitters in the networks becomes $p\\lambda$ active nodes per square-meter.*\n\n(A)  Plot: $p \\times \\lambda \\times  P_s \\times \\log_2(1+\\beta)$ in terms of the access probability $p$, considering that $P_s = 1-\\epsilon$. Assume: $\\alpha=4$, $d=1$, $\\epsilon = 0.05$ and $\\lambda=0.02$.\n\n*Hint: First proceed with the algebraic manipulation of $P_s = 1-\\epsilon$ to find the value of $\\beta$ as a function of the other variables. Then, you ended up in a new equation.*\n\n(B) Find the value of $p$ that optimizes the spatial throughput.\n\n*Hint: It might be possible that sympy cannot find the equation analytically so a numerical solution is also acceptable (see tutorial from week 7).*\n\n(C) Test the result from (B) using the numerical values from (A) by making the plot including the optimal spatial throuhgput value. Verify also for $\\lambda=0.01$ and $\\lambda=0.025$.\n\n(D) What is the transmission capacity of this network (i.e. the maximum achievable spatial throughput)? \n\n(E) Consider that the TXs have one queue where packets arrive at each time slot with a given probability $q$ (Bernoulli arrivals). What is the necessary relation between $p$ and $q$ that guarantees queue stability (i.e. the queue size is not growing to infinity with time). To answer this question you need to simulate this queue considering 3 conditions (i) $q<p$ by setting $q = p - 0.1$, (ii) $q=p$ and (iii) $q>p$ by setting $q = p + 0.1$ for the value of $p$ found in (B) for 10000 time-slots (time-steps) and evaluate the worst case delay.\n\n*Hint: The packets will arrive with probability $q$ each time slot, while packets will leave with probability $p$ (similar to thowning a coin experiment with biased probability). This queue is similar to the \"naive\" simple queue approach taken in week 1 but now with Bernoulli arrivals and departures. To generate a sequence of Bernoulli, you can use the Binomial random number generator (numpy.random.binomial).*\n\n(F) Write a short comment about what would you expect to happen with the queue of the TXs if:\n\n- Restransmissions are allowed\n- CSMA protocol is used\n- Queues have a limited size\n"
    },
    {
      "metadata": {
        "trusted": true
      },
      "cell_type": "code",
      "source": "",
      "execution_count": null,
      "outputs": []
    }
  ],
  "metadata": {
    "kernelspec": {
      "name": "python36",
      "display_name": "Python 3.6",
      "language": "python"
    },
    "language_info": {
      "mimetype": "text/x-python",
      "nbconvert_exporter": "python",
      "name": "python",
      "pygments_lexer": "ipython3",
      "version": "3.6.6",
      "file_extension": ".py",
      "codemirror_mode": {
        "version": 3,
        "name": "ipython"
      }
    }
  },
  "nbformat": 4,
  "nbformat_minor": 2
}